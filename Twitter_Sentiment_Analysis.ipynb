{
  "nbformat": 4,
  "nbformat_minor": 0,
  "metadata": {
    "colab": {
      "provenance": [],
      "authorship_tag": "ABX9TyNxpaACPy71KD7xGFfoGkGT",
      "include_colab_link": true
    },
    "kernelspec": {
      "name": "python3",
      "display_name": "Python 3"
    },
    "language_info": {
      "name": "python"
    }
  },
  "cells": [
    {
      "cell_type": "markdown",
      "metadata": {
        "id": "view-in-github",
        "colab_type": "text"
      },
      "source": [
        "<a href=\"https://colab.research.google.com/github/Nahrawen/Twitter-Sentiment-Analysis/blob/main/Twitter_Sentiment_Analysis.ipynb\" target=\"_parent\"><img src=\"https://colab.research.google.com/assets/colab-badge.svg\" alt=\"Open In Colab\"/></a>"
      ]
    },
    {
      "cell_type": "code",
      "execution_count": 6,
      "metadata": {
        "colab": {
          "base_uri": "https://localhost:8080/"
        },
        "id": "hg5Y-qqbINgH",
        "outputId": "cdc1fa78-2e33-4ddb-d874-708f8fd3bc40"
      },
      "outputs": [
        {
          "output_type": "stream",
          "name": "stdout",
          "text": [
            "Negative 0.0013103534\n",
            "Neutral 0.015516666\n",
            "Positive 0.983173\n",
            "Decision: Positive\n"
          ]
        }
      ],
      "source": [
        "from transformers import AutoTokenizer, AutoModelForSequenceClassification\n",
        "from scipy.special import softmax\n",
        "\n",
        "# Define the tweet\n",
        "tweet = 'I am happy to learn NLP  😉'\n",
        "\n",
        "# Preprocess the tweet\n",
        "tweet_words = []\n",
        "\n",
        "for word in tweet.split(' '):\n",
        "    if word.startswith('@') and len(word) > 1:\n",
        "        word = '@user'\n",
        "    elif word.startswith('http'):\n",
        "        word = \"http\"\n",
        "    tweet_words.append(word)\n",
        "\n",
        "tweet_proc = \" \".join(tweet_words)\n",
        "\n",
        "# Load model and tokenizer\n",
        "roberta = \"cardiffnlp/twitter-roberta-base-sentiment\"\n",
        "\n",
        "model = AutoModelForSequenceClassification.from_pretrained(roberta)\n",
        "tokenizer = AutoTokenizer.from_pretrained(roberta)\n",
        "\n",
        "# Define sentiment labels\n",
        "labels = ['Negative', 'Neutral', 'Positive']\n",
        "\n",
        "# Perform sentiment analysis\n",
        "encoded_tweet = tokenizer(tweet_proc, return_tensors='pt')\n",
        "output = model(**encoded_tweet)\n",
        "\n",
        "# Get sentiment scores\n",
        "scores = output.logits.detach().numpy()[0]\n",
        "scores = softmax(scores)\n",
        "\n",
        "# Print sentiment labels and scores\n",
        "for i in range(len(scores)):\n",
        "    l = labels[i]\n",
        "    s = scores[i]\n",
        "    print(l, s)\n",
        "\n",
        "# Make a decision based on the scores\n",
        "max_score_index = scores.argmax()\n",
        "print(\"Decision:\", labels[max_score_index])"
      ]
    }
  ]
}